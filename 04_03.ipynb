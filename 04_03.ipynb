{
 "cells": [
  {
   "cell_type": "markdown",
   "id": "e93ef12a-cad4-462b-b9bb-38806816486f",
   "metadata": {},
   "source": [
    "# DOCSTRINGS\n",
    "--> Their purpose is to explain what the code does , how t works and how to use it.\n",
    "\n",
    "max.__doc__"
   ]
  },
  {
   "cell_type": "code",
   "execution_count": 13,
   "id": "cb4684d1-640d-4741-955c-4f4f1a37bbbf",
   "metadata": {},
   "outputs": [
    {
     "data": {
      "text/plain": [
       "'Return the number of items in a container.'"
      ]
     },
     "execution_count": 13,
     "metadata": {},
     "output_type": "execute_result"
    }
   ],
   "source": [
    "len.__doc__"
   ]
  },
  {
   "cell_type": "code",
   "execution_count": 15,
   "id": "b2c7c9b4-36ed-4a6b-ac53-d406174a09f9",
   "metadata": {},
   "outputs": [
    {
     "data": {
      "text/plain": [
       "'Prints the values to a stream, or to sys.stdout by default.\\n\\n  sep\\n    string inserted between values, default a space.\\n  end\\n    string appended after the last value, default a newline.\\n  file\\n    a file-like object (stream); defaults to the current sys.stdout.\\n  flush\\n    whether to forcibly flush the stream.'"
      ]
     },
     "execution_count": 15,
     "metadata": {},
     "output_type": "execute_result"
    }
   ],
   "source": [
    "print.__doc__"
   ]
  },
  {
   "cell_type": "code",
   "execution_count": null,
   "id": "9869964a-69ba-4617-a985-3963e356ff4c",
   "metadata": {},
   "outputs": [],
   "source": []
  },
  {
   "cell_type": "code",
   "execution_count": null,
   "id": "f9bfa172-bc1f-4050-8c64-dde80814c69f",
   "metadata": {},
   "outputs": [],
   "source": []
  },
  {
   "cell_type": "markdown",
   "id": "fe6defd3-6396-49c5-a15d-f1b4d8585546",
   "metadata": {},
   "source": [
    "# VARIABLES \n",
    "--->Variables will create a memory location to store a particular value.\n"
   ]
  },
  {
   "cell_type": "code",
   "execution_count": 4,
   "id": "298f77c6-7059-418d-a678-ddeb8b5eb598",
   "metadata": {},
   "outputs": [],
   "source": [
    "w1 = 90"
   ]
  },
  {
   "cell_type": "code",
   "execution_count": 21,
   "id": "dc057572-6bdd-4c06-9259-aa97bbc4681b",
   "metadata": {},
   "outputs": [
    {
     "name": "stdout",
     "output_type": "stream",
     "text": [
      "The value of w1 is  90\n"
     ]
    }
   ],
   "source": [
    "print('The value of w1 is ' , w1)"
   ]
  },
  {
   "cell_type": "code",
   "execution_count": 23,
   "id": "17848513-18a3-4669-bec7-8e36bd1c0e3c",
   "metadata": {},
   "outputs": [
    {
     "data": {
      "text/plain": [
       "int"
      ]
     },
     "execution_count": 23,
     "metadata": {},
     "output_type": "execute_result"
    }
   ],
   "source": [
    "type(w1) # it will show the datatype of variable "
   ]
  },
  {
   "cell_type": "code",
   "execution_count": 25,
   "id": "9614efb7-16d6-45cc-bc26-f33696a796f4",
   "metadata": {},
   "outputs": [
    {
     "data": {
      "text/plain": [
       "28"
      ]
     },
     "execution_count": 25,
     "metadata": {},
     "output_type": "execute_result"
    }
   ],
   "source": [
    "import sys\n",
    "sys.getsizeof(w1) #it will show how much memory it is occupying which is in you system library\n",
    "# It will return the size in bytes"
   ]
  },
  {
   "cell_type": "code",
   "execution_count": null,
   "id": "f4c34011-fb55-401b-97e9-0da6f69bcb56",
   "metadata": {},
   "outputs": [],
   "source": []
  },
  {
   "cell_type": "code",
   "execution_count": null,
   "id": "2a99d2db-fdf9-43cf-8a76-fba459c1cd8d",
   "metadata": {},
   "outputs": [],
   "source": []
  },
  {
   "cell_type": "code",
   "execution_count": 9,
   "id": "abe9ccb2-7ab3-4b7d-bcf8-92084911e734",
   "metadata": {},
   "outputs": [],
   "source": [
    "strvar = ' python '"
   ]
  },
  {
   "cell_type": "code",
   "execution_count": 11,
   "id": "0eae5776-d956-469f-bbde-723f49d7a38c",
   "metadata": {},
   "outputs": [
    {
     "data": {
      "text/plain": [
       "str"
      ]
     },
     "execution_count": 11,
     "metadata": {},
     "output_type": "execute_result"
    }
   ],
   "source": [
    "type(strvar)"
   ]
  },
  {
   "cell_type": "code",
   "execution_count": null,
   "id": "c585ec8d-9fd3-4ea7-a118-0aaa57c80174",
   "metadata": {},
   "outputs": [],
   "source": []
  },
  {
   "cell_type": "code",
   "execution_count": null,
   "id": "0d30e799-45be-4b62-b279-3774b4c8501a",
   "metadata": {},
   "outputs": [],
   "source": []
  },
  {
   "cell_type": "markdown",
   "id": "8bc00a84-7c9c-48d4-b9dc-92e6de0cb956",
   "metadata": {},
   "source": [
    "# Multiple Variable Assignment"
   ]
  },
  {
   "cell_type": "code",
   "execution_count": 16,
   "id": "d2338452-1382-4cd0-a553-95918e0535b3",
   "metadata": {},
   "outputs": [],
   "source": [
    "a , b , c = 10 , 8.8 , 'python'"
   ]
  },
  {
   "cell_type": "code",
   "execution_count": 20,
   "id": "6d27a35d-676c-4f60-8897-da7f95344ec0",
   "metadata": {},
   "outputs": [
    {
     "name": "stdout",
     "output_type": "stream",
     "text": [
      "10\n"
     ]
    }
   ],
   "source": [
    "print(a)"
   ]
  },
  {
   "cell_type": "code",
   "execution_count": 22,
   "id": "beaea311-0664-4e74-88ba-65a69432b48a",
   "metadata": {},
   "outputs": [
    {
     "name": "stdout",
     "output_type": "stream",
     "text": [
      "8.8\n"
     ]
    }
   ],
   "source": [
    "print(b)"
   ]
  },
  {
   "cell_type": "code",
   "execution_count": 24,
   "id": "e2c6b5af-05f3-49b4-801e-a1facc3bccd1",
   "metadata": {},
   "outputs": [
    {
     "name": "stdout",
     "output_type": "stream",
     "text": [
      "python\n"
     ]
    }
   ],
   "source": [
    "print (c)"
   ]
  },
  {
   "cell_type": "code",
   "execution_count": 26,
   "id": "5778a8c7-2e5e-4158-9854-dd9163ac3693",
   "metadata": {},
   "outputs": [],
   "source": [
    "a1 = a2 = a3 = 66"
   ]
  },
  {
   "cell_type": "code",
   "execution_count": 28,
   "id": "a2a4d81f-8d20-43f6-ad23-338a181a80e6",
   "metadata": {},
   "outputs": [
    {
     "data": {
      "text/plain": [
       "132"
      ]
     },
     "execution_count": 28,
     "metadata": {},
     "output_type": "execute_result"
    }
   ],
   "source": [
    "a1 + a2"
   ]
  },
  {
   "cell_type": "code",
   "execution_count": null,
   "id": "dede196d-2618-4348-b1f9-b58407a19224",
   "metadata": {},
   "outputs": [],
   "source": []
  },
  {
   "cell_type": "code",
   "execution_count": null,
   "id": "a8268595-0eb8-4b6d-851a-85328ca2a444",
   "metadata": {},
   "outputs": [],
   "source": []
  },
  {
   "cell_type": "markdown",
   "id": "6e768044-a3f0-4e01-8e7a-4e560220dc98",
   "metadata": {},
   "source": [
    "# DATA TYPES"
   ]
  },
  {
   "cell_type": "markdown",
   "id": "e0d5b7d1-2932-4e3b-9002-d058fff90e57",
   "metadata": {},
   "source": [
    "#  ---> (1) Numeric Data Type"
   ]
  },
  {
   "cell_type": "markdown",
   "id": "d419ab99-f458-4c9a-8b84-4af64d7777ee",
   "metadata": {},
   "source": [
    "                    # int"
   ]
  },
  {
   "cell_type": "code",
   "execution_count": 37,
   "id": "7644fcf4-0a0d-409a-ab58-b9ef87707c72",
   "metadata": {},
   "outputs": [],
   "source": [
    "val1 = 10"
   ]
  },
  {
   "cell_type": "code",
   "execution_count": 39,
   "id": "bca66369-aec5-4b8a-baec-7551d2fac963",
   "metadata": {},
   "outputs": [
    {
     "data": {
      "text/plain": [
       "int"
      ]
     },
     "execution_count": 39,
     "metadata": {},
     "output_type": "execute_result"
    }
   ],
   "source": [
    "type(val1)"
   ]
  },
  {
   "cell_type": "code",
   "execution_count": 41,
   "id": "8a467b46-409c-4e7b-9844-bd2c3ac0828f",
   "metadata": {},
   "outputs": [],
   "source": [
    "import sys"
   ]
  },
  {
   "cell_type": "code",
   "execution_count": 43,
   "id": "c48bccd3-2a6c-4bc1-a576-cda244c5f890",
   "metadata": {},
   "outputs": [
    {
     "data": {
      "text/plain": [
       "28"
      ]
     },
     "execution_count": 43,
     "metadata": {},
     "output_type": "execute_result"
    }
   ],
   "source": [
    "sys.getsizeof(val1)"
   ]
  },
  {
   "cell_type": "code",
   "execution_count": 45,
   "id": "10aa11f8-af6f-4dbd-9282-8028c33a64bd",
   "metadata": {},
   "outputs": [
    {
     "data": {
      "text/plain": [
       "True"
      ]
     },
     "execution_count": 45,
     "metadata": {},
     "output_type": "execute_result"
    }
   ],
   "source": [
    "isinstance(val1 , int) "
   ]
  },
  {
   "cell_type": "markdown",
   "id": "31010f28-ecdb-4a1d-8264-ffceecba04e7",
   "metadata": {},
   "source": [
    "                    # float"
   ]
  },
  {
   "cell_type": "code",
   "execution_count": 48,
   "id": "b536acec-add4-4166-85c8-f46bf5d074c1",
   "metadata": {},
   "outputs": [],
   "source": [
    "b = 4.2"
   ]
  },
  {
   "cell_type": "code",
   "execution_count": 50,
   "id": "b52202ec-e3a0-4e90-8281-a14694485388",
   "metadata": {},
   "outputs": [
    {
     "data": {
      "text/plain": [
       "float"
      ]
     },
     "execution_count": 50,
     "metadata": {},
     "output_type": "execute_result"
    }
   ],
   "source": [
    "type(b)"
   ]
  },
  {
   "cell_type": "code",
   "execution_count": 54,
   "id": "e0e19290-2bf0-484b-a7b2-9ac4b663ee20",
   "metadata": {},
   "outputs": [
    {
     "data": {
      "text/plain": [
       "True"
      ]
     },
     "execution_count": 54,
     "metadata": {},
     "output_type": "execute_result"
    }
   ],
   "source": [
    "isinstance(b , float)"
   ]
  },
  {
   "cell_type": "code",
   "execution_count": null,
   "id": "5a03290f-b6e4-4aa3-b289-084a078113a4",
   "metadata": {},
   "outputs": [],
   "source": []
  },
  {
   "cell_type": "markdown",
   "id": "8e3bc1a2-b00c-4b4d-b976-bf1d8cf24d10",
   "metadata": {},
   "source": [
    "                    # complex"
   ]
  },
  {
   "cell_type": "code",
   "execution_count": 2,
   "id": "9e353794-5075-4774-a115-84b27b04fb47",
   "metadata": {},
   "outputs": [],
   "source": [
    "c = 10 + 3j"
   ]
  },
  {
   "cell_type": "code",
   "execution_count": 4,
   "id": "bcf0b063-4352-41f9-8d79-c5dff6b7bd0c",
   "metadata": {},
   "outputs": [
    {
     "data": {
      "text/plain": [
       "complex"
      ]
     },
     "execution_count": 4,
     "metadata": {},
     "output_type": "execute_result"
    }
   ],
   "source": [
    "type(c)"
   ]
  },
  {
   "cell_type": "code",
   "execution_count": null,
   "id": "7fafa303-d5dc-43d5-a47e-df8e7d649e2c",
   "metadata": {},
   "outputs": [],
   "source": []
  },
  {
   "cell_type": "code",
   "execution_count": null,
   "id": "d4c008d5-35bb-4d2c-a2fd-0b6a383a5099",
   "metadata": {},
   "outputs": [],
   "source": []
  },
  {
   "cell_type": "markdown",
   "id": "463bbc93-aae1-4d82-b299-3d1a69c4873e",
   "metadata": {},
   "source": [
    "# STRING\n",
    "    --> Use to store characters data like name , address ,  location\n",
    "    --> '   '  or \"   \""
   ]
  },
  {
   "cell_type": "code",
   "execution_count": 10,
   "id": "8f5c044f-114c-4a41-8461-3cba069ba5c1",
   "metadata": {},
   "outputs": [],
   "source": [
    "str1 = \"hello python\" "
   ]
  },
  {
   "cell_type": "code",
   "execution_count": 12,
   "id": "ace9ce77-f1e9-4e74-9fc7-bb87a5e8766d",
   "metadata": {},
   "outputs": [
    {
     "data": {
      "text/plain": [
       "str"
      ]
     },
     "execution_count": 12,
     "metadata": {},
     "output_type": "execute_result"
    }
   ],
   "source": [
    "type(str1)"
   ]
  },
  {
   "cell_type": "code",
   "execution_count": null,
   "id": "87832bd9-e87b-4ea4-af46-ef126f9d55d0",
   "metadata": {},
   "outputs": [],
   "source": []
  },
  {
   "cell_type": "markdown",
   "id": "6074bb6f-006a-4d2d-9ee0-ef151b714f73",
   "metadata": {},
   "source": [
    "# String Indexing "
   ]
  },
  {
   "cell_type": "code",
   "execution_count": 16,
   "id": "1f9685ae-a3ed-4349-976e-9d8468aa8b7f",
   "metadata": {},
   "outputs": [
    {
     "data": {
      "text/plain": [
       "12"
      ]
     },
     "execution_count": 16,
     "metadata": {},
     "output_type": "execute_result"
    }
   ],
   "source": [
    "len(str1)"
   ]
  },
  {
   "cell_type": "code",
   "execution_count": 20,
   "id": "b03f6477-417a-43dd-b22f-163ba9eac54b",
   "metadata": {},
   "outputs": [
    {
     "data": {
      "text/plain": [
       "'h'"
      ]
     },
     "execution_count": 20,
     "metadata": {},
     "output_type": "execute_result"
    }
   ],
   "source": [
    "str1[0]"
   ]
  },
  {
   "cell_type": "code",
   "execution_count": 22,
   "id": "11587632-f7f5-4b44-9db6-ad1298ff6648",
   "metadata": {},
   "outputs": [
    {
     "data": {
      "text/plain": [
       "'e'"
      ]
     },
     "execution_count": 22,
     "metadata": {},
     "output_type": "execute_result"
    }
   ],
   "source": [
    "str1[1]"
   ]
  },
  {
   "cell_type": "code",
   "execution_count": 24,
   "id": "42e4e229-525b-47cc-af52-cb4e66a4b214",
   "metadata": {},
   "outputs": [
    {
     "data": {
      "text/plain": [
       "'l'"
      ]
     },
     "execution_count": 24,
     "metadata": {},
     "output_type": "execute_result"
    }
   ],
   "source": [
    "str1[2]"
   ]
  },
  {
   "cell_type": "code",
   "execution_count": 26,
   "id": "457504b3-b406-435a-aecb-dd02f155bf77",
   "metadata": {},
   "outputs": [
    {
     "data": {
      "text/plain": [
       "'l'"
      ]
     },
     "execution_count": 26,
     "metadata": {},
     "output_type": "execute_result"
    }
   ],
   "source": [
    "str1[3]"
   ]
  },
  {
   "cell_type": "code",
   "execution_count": 28,
   "id": "b54d10b7-1fba-454a-abd8-099211f970a3",
   "metadata": {},
   "outputs": [
    {
     "data": {
      "text/plain": [
       "'o'"
      ]
     },
     "execution_count": 28,
     "metadata": {},
     "output_type": "execute_result"
    }
   ],
   "source": [
    "str1[4]"
   ]
  },
  {
   "cell_type": "code",
   "execution_count": 30,
   "id": "10d32bb7-cb0b-4db1-9e0a-161ac504303e",
   "metadata": {},
   "outputs": [
    {
     "data": {
      "text/plain": [
       "'o'"
      ]
     },
     "execution_count": 30,
     "metadata": {},
     "output_type": "execute_result"
    }
   ],
   "source": [
    "str1[-2]"
   ]
  },
  {
   "cell_type": "code",
   "execution_count": 34,
   "id": "e4a12ecb-4a1b-4e32-a6a1-66b2ac4d7a79",
   "metadata": {},
   "outputs": [
    {
     "data": {
      "text/plain": [
       "'y'"
      ]
     },
     "execution_count": 34,
     "metadata": {},
     "output_type": "execute_result"
    }
   ],
   "source": [
    "str1[len(str1) - 5 ]"
   ]
  },
  {
   "cell_type": "code",
   "execution_count": null,
   "id": "185b9b95-052a-490a-97ae-af181c9a9963",
   "metadata": {},
   "outputs": [],
   "source": []
  },
  {
   "cell_type": "code",
   "execution_count": null,
   "id": "551f406e-1bc8-4c46-a7e5-70b9e22ec487",
   "metadata": {},
   "outputs": [],
   "source": []
  },
  {
   "cell_type": "markdown",
   "id": "c2d0bbd8-07cd-41c2-b06a-ae978297b3cd",
   "metadata": {},
   "source": [
    "# String Slicing\n",
    "       --> It means to fetch a group of elements.\n",
    "       --> Element at stop index will be excluded."
   ]
  },
  {
   "cell_type": "markdown",
   "id": "05b60d29-6314-4399-8e30-9440adc26f53",
   "metadata": {},
   "source": [
    "#          #string[start: stop ]"
   ]
  },
  {
   "cell_type": "code",
   "execution_count": 39,
   "id": "8f514f8d-7c6a-4436-a94c-1cfc694109fe",
   "metadata": {},
   "outputs": [],
   "source": [
    "str1 = \"hello python\" "
   ]
  },
  {
   "cell_type": "code",
   "execution_count": 53,
   "id": "957b6446-de48-4dc1-b0d9-669bad25ebe0",
   "metadata": {},
   "outputs": [
    {
     "data": {
      "text/plain": [
       "'hello'"
      ]
     },
     "execution_count": 53,
     "metadata": {},
     "output_type": "execute_result"
    }
   ],
   "source": [
    "str1[0:5] # it's like [0:5:0] - 0 step"
   ]
  },
  {
   "cell_type": "code",
   "execution_count": 55,
   "id": "9da627ee-545d-43a8-b15d-796862d48474",
   "metadata": {},
   "outputs": [
    {
     "data": {
      "text/plain": [
       "'hello'"
      ]
     },
     "execution_count": 55,
     "metadata": {},
     "output_type": "execute_result"
    }
   ],
   "source": [
    "str1[-12:-7] #  [-12:-7:0] - 0 step"
   ]
  },
  {
   "cell_type": "code",
   "execution_count": 57,
   "id": "09ada64e-f91b-401c-bd50-8cfdc838b928",
   "metadata": {},
   "outputs": [
    {
     "data": {
      "text/plain": [
       "'pyth'"
      ]
     },
     "execution_count": 57,
     "metadata": {},
     "output_type": "execute_result"
    }
   ],
   "source": [
    "str1[6:10] # [6:10:0] - 0 step"
   ]
  },
  {
   "cell_type": "markdown",
   "id": "f3cbc23e-c195-413f-9e9e-ed5d80d1cb15",
   "metadata": {},
   "source": [
    "#  #string[start: stop : step]"
   ]
  },
  {
   "cell_type": "code",
   "execution_count": 6,
   "id": "581ce9e7-30e7-4276-a3d0-ef093a722460",
   "metadata": {},
   "outputs": [],
   "source": [
    "str1 = \"hello python\""
   ]
  },
  {
   "cell_type": "code",
   "execution_count": 67,
   "id": "5a9b9ffe-6a82-4af5-a15f-9f477238d4b7",
   "metadata": {},
   "outputs": [
    {
     "data": {
      "text/plain": [
       "'hello '"
      ]
     },
     "execution_count": 67,
     "metadata": {},
     "output_type": "execute_result"
    }
   ],
   "source": [
    "str1[0:6:1] # 1 step"
   ]
  },
  {
   "cell_type": "code",
   "execution_count": 69,
   "id": "be4e9942-2473-43ce-ab14-3260c502a3ba",
   "metadata": {},
   "outputs": [
    {
     "data": {
      "text/plain": [
       "'hlo'"
      ]
     },
     "execution_count": 69,
     "metadata": {},
     "output_type": "execute_result"
    }
   ],
   "source": [
    "str1[0:6:2] # 2 step"
   ]
  },
  {
   "cell_type": "code",
   "execution_count": 71,
   "id": "26deafc1-a822-4acf-9d1f-c28cfb5888a7",
   "metadata": {},
   "outputs": [
    {
     "data": {
      "text/plain": [
       "'hello python'"
      ]
     },
     "execution_count": 71,
     "metadata": {},
     "output_type": "execute_result"
    }
   ],
   "source": [
    "str1[0:12:1]# 1 step"
   ]
  },
  {
   "cell_type": "code",
   "execution_count": 73,
   "id": "69024014-4bcc-4232-8ec5-b343952f5285",
   "metadata": {},
   "outputs": [
    {
     "data": {
      "text/plain": [
       "'hlopto'"
      ]
     },
     "execution_count": 73,
     "metadata": {},
     "output_type": "execute_result"
    }
   ],
   "source": [
    "str1[0:12:2] # 2 step"
   ]
  },
  {
   "cell_type": "code",
   "execution_count": 75,
   "id": "51c3bed7-51a9-4d81-b71f-8d49f7b92660",
   "metadata": {},
   "outputs": [
    {
     "data": {
      "text/plain": [
       "'hlph'"
      ]
     },
     "execution_count": 75,
     "metadata": {},
     "output_type": "execute_result"
    }
   ],
   "source": [
    "str1[0:12:3] # 3 step"
   ]
  },
  {
   "cell_type": "code",
   "execution_count": null,
   "id": "790130d0-b6eb-4f9d-adc5-0b93d6816c61",
   "metadata": {},
   "outputs": [],
   "source": []
  },
  {
   "cell_type": "code",
   "execution_count": null,
   "id": "d8fef8e1-4b21-44ad-a2ba-eac634f3479f",
   "metadata": {},
   "outputs": [],
   "source": []
  },
  {
   "cell_type": "markdown",
   "id": "74b5ac67-a51f-42dc-9dc7-1fb9684a00ed",
   "metadata": {},
   "source": [
    "# Update and Delete String \n",
    "      --> Strings are immutable: can not be altered once it is created .\n",
    "      --> Can not be change or modiufy.\n",
    "    "
   ]
  },
  {
   "cell_type": "code",
   "execution_count": 2,
   "id": "53541291-4476-4277-9025-0ea13d603ac2",
   "metadata": {},
   "outputs": [],
   "source": [
    "str1 = \"hello python\""
   ]
  },
  {
   "cell_type": "code",
   "execution_count": 9,
   "id": "4e76a985-6978-47af-aa0b-ec0a7a8dd5c2",
   "metadata": {},
   "outputs": [
    {
     "ename": "TypeError",
     "evalue": "'type' object does not support item assignment",
     "output_type": "error",
     "traceback": [
      "\u001b[1;31m---------------------------------------------------------------------------\u001b[0m",
      "\u001b[1;31mTypeError\u001b[0m                                 Traceback (most recent call last)",
      "Cell \u001b[1;32mIn[9], line 1\u001b[0m\n\u001b[1;32m----> 1\u001b[0m \u001b[38;5;28mstr\u001b[39m[\u001b[38;5;241m0\u001b[39m:\u001b[38;5;241m2\u001b[39m] \u001b[38;5;241m=\u001b[39m \u001b[38;5;124m'\u001b[39m\u001b[38;5;124maa\u001b[39m\u001b[38;5;124m'\u001b[39m\n",
      "\u001b[1;31mTypeError\u001b[0m: 'type' object does not support item assignment"
     ]
    }
   ],
   "source": [
    "str[0:2] = 'aa' # TypeError (bcoz u can not change a string)"
   ]
  },
  {
   "cell_type": "raw",
   "id": "653e7c80-d9d2-4216-8ffe-59c399a1934e",
   "metadata": {},
   "source": [
    ".replace(old_value,new_value)\n",
    "This function to change the content of the string but can not modify the string"
   ]
  },
  {
   "cell_type": "code",
   "execution_count": 11,
   "id": "94cde621-2157-45bc-a8cc-aa80674945de",
   "metadata": {},
   "outputs": [
    {
     "data": {
      "text/plain": [
       "'hillo python'"
      ]
     },
     "execution_count": 11,
     "metadata": {},
     "output_type": "execute_result"
    }
   ],
   "source": [
    "str1.replace('he' , 'hi')"
   ]
  },
  {
   "cell_type": "raw",
   "id": "cd4a8680-ae8c-46c1-a6ce-40381d4b435a",
   "metadata": {},
   "source": [
    "But if u run str1 now u will get the previous one not this one."
   ]
  },
  {
   "cell_type": "code",
   "execution_count": 15,
   "id": "59559ffa-dc9d-48f9-9661-1d36890a27a9",
   "metadata": {},
   "outputs": [
    {
     "data": {
      "text/plain": [
       "'hello python'"
      ]
     },
     "execution_count": 15,
     "metadata": {},
     "output_type": "execute_result"
    }
   ],
   "source": [
    "str1 # still no change"
   ]
  },
  {
   "cell_type": "code",
   "execution_count": 17,
   "id": "d98e9a5f-1075-456b-b7f4-f75f4b369789",
   "metadata": {},
   "outputs": [],
   "source": [
    "del str1 # Delete the entire string"
   ]
  },
  {
   "cell_type": "code",
   "execution_count": 21,
   "id": "0e84a468-d85c-437a-b30d-a22862ea47fd",
   "metadata": {},
   "outputs": [
    {
     "ename": "NameError",
     "evalue": "name 'str1' is not defined",
     "output_type": "error",
     "traceback": [
      "\u001b[1;31m---------------------------------------------------------------------------\u001b[0m",
      "\u001b[1;31mNameError\u001b[0m                                 Traceback (most recent call last)",
      "Cell \u001b[1;32mIn[21], line 1\u001b[0m\n\u001b[1;32m----> 1\u001b[0m str1\n",
      "\u001b[1;31mNameError\u001b[0m: name 'str1' is not defined"
     ]
    }
   ],
   "source": [
    "str1 #NameError"
   ]
  },
  {
   "cell_type": "code",
   "execution_count": null,
   "id": "f9420f05-6e99-4ac8-8ad8-7f543222e938",
   "metadata": {},
   "outputs": [],
   "source": []
  },
  {
   "cell_type": "code",
   "execution_count": null,
   "id": "c6a93ecd-6528-4414-9abc-e4ffa26f6571",
   "metadata": {},
   "outputs": [],
   "source": []
  },
  {
   "cell_type": "markdown",
   "id": "236aad01-eff0-4f51-8db8-0a3671c40ed6",
   "metadata": {},
   "source": [
    "# String Concatination:\n",
    "      --> Combining multiple string.\n",
    "      --> String support concatination."
   ]
  },
  {
   "cell_type": "code",
   "execution_count": 28,
   "id": "fdfc37e2-20af-4592-911f-30fc1cd3a194",
   "metadata": {},
   "outputs": [
    {
     "data": {
      "text/plain": [
       "'Data Science'"
      ]
     },
     "execution_count": 28,
     "metadata": {},
     "output_type": "execute_result"
    }
   ],
   "source": [
    "s1 = 'Data'\n",
    "s2 = ' Science'\n",
    "s3 = s1 + s2\n",
    "s3"
   ]
  },
  {
   "cell_type": "code",
   "execution_count": 30,
   "id": "eebbc448-a60f-44b9-a4fd-5ca6e85a1dd0",
   "metadata": {},
   "outputs": [
    {
     "data": {
      "text/plain": [
       "' 2 date!'"
      ]
     },
     "execution_count": 30,
     "metadata": {},
     "output_type": "execute_result"
    }
   ],
   "source": [
    "' 2 ' + 'date' + '!' "
   ]
  },
  {
   "cell_type": "code",
   "execution_count": 32,
   "id": "ec83c485-c643-4882-9609-1b345d5d1cca",
   "metadata": {},
   "outputs": [
    {
     "ename": "TypeError",
     "evalue": "can only concatenate str (not \"int\") to str",
     "output_type": "error",
     "traceback": [
      "\u001b[1;31m---------------------------------------------------------------------------\u001b[0m",
      "\u001b[1;31mTypeError\u001b[0m                                 Traceback (most recent call last)",
      "Cell \u001b[1;32mIn[32], line 1\u001b[0m\n\u001b[1;32m----> 1\u001b[0m \u001b[38;5;124m'\u001b[39m\u001b[38;5;124m date \u001b[39m\u001b[38;5;124m'\u001b[39m \u001b[38;5;241m+\u001b[39m \u001b[38;5;241m3\u001b[39m\n",
      "\u001b[1;31mTypeError\u001b[0m: can only concatenate str (not \"int\") to str"
     ]
    }
   ],
   "source": [
    "' date ' + 3"
   ]
  },
  {
   "cell_type": "raw",
   "id": "2c7003e1-811f-46e3-ba38-e36817df668b",
   "metadata": {},
   "source": [
    "If u see above 3 and 2 both are interger but u get error in the second one . Because 2 written in \n",
    "quotes '' that means any integer or any symbol written in quotes that is string."
   ]
  },
  {
   "cell_type": "code",
   "execution_count": null,
   "id": "e8366f3c-0a7e-41fd-9430-3d15568c88b8",
   "metadata": {},
   "outputs": [],
   "source": []
  },
  {
   "cell_type": "code",
   "execution_count": null,
   "id": "7ef4929c-f21f-488f-a34d-ddc866895abf",
   "metadata": {},
   "outputs": [],
   "source": []
  },
  {
   "cell_type": "markdown",
   "id": "9585b799-88ea-4ce5-a545-8dc048f59ccf",
   "metadata": {},
   "source": [
    "# String Membership ('in'):\n",
    "\n",
    "    --> Output - True or False\n",
    "    --> Substring present - True\n",
    "        Substring not present - False"
   ]
  },
  {
   "cell_type": "code",
   "execution_count": 3,
   "id": "98842faf-165c-47df-99fd-da50d8c0c5a6",
   "metadata": {},
   "outputs": [],
   "source": [
    "a = 'Hello Everyone'"
   ]
  },
  {
   "cell_type": "code",
   "execution_count": 5,
   "id": "7497e381-f6bd-4c76-8621-4d4f1d576a5e",
   "metadata": {},
   "outputs": [
    {
     "data": {
      "text/plain": [
       "True"
      ]
     },
     "execution_count": 5,
     "metadata": {},
     "output_type": "execute_result"
    }
   ],
   "source": [
    "'Hello' in a"
   ]
  },
  {
   "cell_type": "code",
   "execution_count": 7,
   "id": "ebce499a-5885-4dc2-9ec2-7fb37d70b564",
   "metadata": {},
   "outputs": [
    {
     "data": {
      "text/plain": [
       "False"
      ]
     },
     "execution_count": 7,
     "metadata": {},
     "output_type": "execute_result"
    }
   ],
   "source": [
    "'Data' in a"
   ]
  },
  {
   "cell_type": "code",
   "execution_count": null,
   "id": "a2c7fabc-e67f-465b-903f-594306d67cc8",
   "metadata": {},
   "outputs": [],
   "source": []
  },
  {
   "cell_type": "code",
   "execution_count": null,
   "id": "dd2c123a-70d7-41b4-ac79-616336778a19",
   "metadata": {},
   "outputs": [],
   "source": []
  },
  {
   "cell_type": "markdown",
   "id": "e0d15f6a-8e3f-42a2-8b8a-a0f0f1fd244b",
   "metadata": {},
   "source": [
    "# String Partioning:\n",
    "      --> String partition(split element)\n",
    "      --> Spliting of the string\n",
    "      "
   ]
  },
  {
   "cell_type": "code",
   "execution_count": 10,
   "id": "6e4380c3-1a88-4446-afda-4da09cd46a0a",
   "metadata": {},
   "outputs": [],
   "source": [
    "str5 = 'Natural Language Processing can be done with R, Python and Java. '"
   ]
  },
  {
   "cell_type": "code",
   "execution_count": 12,
   "id": "73086692-988b-4526-a797-4b8e80087bc3",
   "metadata": {},
   "outputs": [
    {
     "data": {
      "text/plain": [
       "('Natural Language Processing can be done ', 'with', ' R, Python and Java. ')"
      ]
     },
     "execution_count": 12,
     "metadata": {},
     "output_type": "execute_result"
    }
   ],
   "source": [
    "str5.partition('with')"
   ]
  },
  {
   "cell_type": "code",
   "execution_count": 14,
   "id": "50dfd5e8-2aee-4a41-952f-fc9c20ea1009",
   "metadata": {},
   "outputs": [
    {
     "data": {
      "text/plain": [
       "('Natural Language Processing can be done with R, ', 'Python', ' and Java. ')"
      ]
     },
     "execution_count": 14,
     "metadata": {},
     "output_type": "execute_result"
    }
   ],
   "source": [
    "str5.partition('Python')"
   ]
  },
  {
   "cell_type": "code",
   "execution_count": null,
   "id": "d588e11d-c116-47ba-b275-00e78326a21b",
   "metadata": {},
   "outputs": [],
   "source": []
  }
 ],
 "metadata": {
  "kernelspec": {
   "display_name": "Python [conda env:base] *",
   "language": "python",
   "name": "conda-base-py"
  },
  "language_info": {
   "codemirror_mode": {
    "name": "ipython",
    "version": 3
   },
   "file_extension": ".py",
   "mimetype": "text/x-python",
   "name": "python",
   "nbconvert_exporter": "python",
   "pygments_lexer": "ipython3",
   "version": "3.12.7"
  }
 },
 "nbformat": 4,
 "nbformat_minor": 5
}
