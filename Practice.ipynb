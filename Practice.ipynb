{
 "cells": [
  {
   "cell_type": "markdown",
   "id": "f779118f-a767-4ea1-ad3b-a95d02346a41",
   "metadata": {},
   "source": [
    "# Practice Day - 1  "
   ]
  },
  {
   "cell_type": "code",
   "execution_count": null,
   "id": "1ed2eb1f-fbca-4d14-8786-5c6a6fe89df2",
   "metadata": {},
   "outputs": [],
   "source": []
  },
  {
   "cell_type": "code",
   "execution_count": null,
   "id": "f95a8a48-467b-4cd6-94f3-eeb348e1d315",
   "metadata": {},
   "outputs": [],
   "source": []
  },
  {
   "cell_type": "markdown",
   "id": "e3c5cf3e-5995-4264-b277-e47fbc0e31d9",
   "metadata": {},
   "source": [
    "# Datetime Package :"
   ]
  },
  {
   "cell_type": "markdown",
   "id": "765809c4-2312-4921-9c38-84fd00facf2a",
   "metadata": {},
   "source": [
    "# (1) Write a Python program that prints the current date in the format DD-MM-YYYY."
   ]
  },
  {
   "cell_type": "code",
   "execution_count": 21,
   "id": "1e6d0a92-fa04-4be4-a1ba-10acd3a8ac69",
   "metadata": {},
   "outputs": [
    {
     "name": "stdout",
     "output_type": "stream",
     "text": [
      " Today's date is  2025-05-01\n"
     ]
    }
   ],
   "source": [
    "from datetime import date\n",
    "day = date.today()\n",
    "ans = print( \" Today's date is \", day)\n",
    "ans"
   ]
  },
  {
   "cell_type": "code",
   "execution_count": 19,
   "id": "1e02f632-8f69-4bb9-aa1f-25f294b7d153",
   "metadata": {},
   "outputs": [
    {
     "name": "stdout",
     "output_type": "stream",
     "text": [
      " Today's date is  01,05,2025\n"
     ]
    }
   ],
   "source": [
    "from datetime import datetime\n",
    "day = datetime.now()\n",
    "ans = day.strftime(\"%d,%m,%Y\")\n",
    "print( \" Today's date is \", ans)"
   ]
  },
  {
   "cell_type": "code",
   "execution_count": null,
   "id": "7f63202e-a5fb-499e-8249-de69a0b0e69e",
   "metadata": {},
   "outputs": [],
   "source": []
  }
 ],
 "metadata": {
  "kernelspec": {
   "display_name": "Python [conda env:base] *",
   "language": "python",
   "name": "conda-base-py"
  },
  "language_info": {
   "codemirror_mode": {
    "name": "ipython",
    "version": 3
   },
   "file_extension": ".py",
   "mimetype": "text/x-python",
   "name": "python",
   "nbconvert_exporter": "python",
   "pygments_lexer": "ipython3",
   "version": "3.12.7"
  }
 },
 "nbformat": 4,
 "nbformat_minor": 5
}
